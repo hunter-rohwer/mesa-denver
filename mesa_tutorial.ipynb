{
 "cells": [
  {
   "cell_type": "markdown",
   "metadata": {},
   "source": [
    "# Import Dependencies"
   ]
  },
  {
   "cell_type": "code",
   "execution_count": 76,
   "metadata": {},
   "outputs": [],
   "source": [
    "import mesa\n",
    "import numpy as np\n",
    "\n",
    "import matplotlib.pyplot as plt\n",
    "%matplotlib inline"
   ]
  },
  {
   "cell_type": "markdown",
   "metadata": {},
   "source": [
    "# Resource Classes"
   ]
  },
  {
   "cell_type": "code",
   "execution_count": 77,
   "metadata": {},
   "outputs": [],
   "source": [
    "class Sugar(mesa.Agent):\n",
    "    '''\n",
    "    Sugar:\n",
    "    - contains an amount of sugar\n",
    "    - grows one amount of sugar each turn\n",
    "    '''\n",
    "    def __init__(self, unique_id, model, pos, max_sugar):\n",
    "        super().__init__(unique_id, model)\n",
    "        self.pos = pos\n",
    "        self.amount = max_sugar\n",
    "        self.max_sugar = max_sugar"
   ]
  },
  {
   "cell_type": "code",
   "execution_count": 78,
   "metadata": {},
   "outputs": [],
   "source": [
    "class Spice(mesa.Agent):\n",
    "    '''\n",
    "    Spice:\n",
    "    - contains an amount of spice\n",
    "    - grows 1 amount of spice each turn\n",
    "    '''\n",
    "    def __init__(self):\n",
    "        print('I am spice')"
   ]
  },
  {
   "cell_type": "markdown",
   "metadata": {},
   "source": [
    "# Trader Class"
   ]
  },
  {
   "cell_type": "code",
   "execution_count": 79,
   "metadata": {},
   "outputs": [],
   "source": [
    "class Trader(mesa.Agent):\n",
    "    '''\n",
    "    Trader:\n",
    "    - has a metabolism for sugar and spice\n",
    "    - harvests and trades sugar and spice to survive and thrive\n",
    "    '''\n",
    "    def __init__(self):\n",
    "        print('I am a trader')"
   ]
  },
  {
   "cell_type": "markdown",
   "metadata": {},
   "source": [
    "# Model Class"
   ]
  },
  {
   "cell_type": "code",
   "execution_count": 80,
   "metadata": {},
   "outputs": [],
   "source": [
    "class SugarscapeG1mt(mesa.Model):\n",
    "    '''\n",
    "    A model class to manage Sugarscape with Traders (G1mt)\n",
    "    from Growing Artificial Societies by Axtell and Epstein\n",
    "    '''\n",
    "    def __init__(self, width=50, height=50):\n",
    "        # Indicate width and height of sugarscape\n",
    "        self.width = width\n",
    "        self.height = height\n",
    "\n",
    "        # Instantiate mesa grid class\n",
    "        self.grid = mesa.space.MultiGrid(self.width, self.height, torus=False)\n",
    "\n",
    "        # Read in landscape file from supplementary material\n",
    "        sugar_distribution = np.genfromtxt('sugar-map.txt')\n",
    "        spice_distribution = np.flip(sugar_distribution, 1) # Flip on x and y axis\n",
    "        # print(sugar_distribution.shape)\n",
    "        # print(sugar_distribution[30][15]) # Call specific cell (x,y)\n",
    "        # plt.imshow(spice_distribution, origin='lower')\n",
    "\n",
    "        agent_id = 0\n",
    "        for _, (x,y) in self.grid.coord_iter():\n",
    "            max_sugar = sugar_distribution[x,y]\n",
    "            if max_sugar > 0:\n",
    "                sugar = Sugar(agent_id, self, (x,y), max_sugar)\n",
    "                self.grid.place_agent(sugar, (x,y))\n",
    "                agent_id += 1\n",
    "\n",
    "        for _, (x,y) in self.grid.coord_iter():\n",
    "            print(_, (x,y))\n"
   ]
  },
  {
   "cell_type": "code",
   "execution_count": 81,
   "metadata": {},
   "outputs": [
    {
     "ename": "TypeError",
     "evalue": "object.__init__() takes exactly one argument (the instance to initialize)",
     "output_type": "error",
     "traceback": [
      "\u001b[31m---------------------------------------------------------------------------\u001b[39m",
      "\u001b[31mTypeError\u001b[39m                                 Traceback (most recent call last)",
      "\u001b[36mCell\u001b[39m\u001b[36m \u001b[39m\u001b[32mIn[81]\u001b[39m\u001b[32m, line 1\u001b[39m\n\u001b[32m----> \u001b[39m\u001b[32m1\u001b[39m model = \u001b[43mSugarscapeG1mt\u001b[49m\u001b[43m(\u001b[49m\u001b[43m)\u001b[49m\n",
      "\u001b[36mCell\u001b[39m\u001b[36m \u001b[39m\u001b[32mIn[80]\u001b[39m\u001b[32m, line 25\u001b[39m, in \u001b[36mSugarscapeG1mt.__init__\u001b[39m\u001b[34m(self, width, height)\u001b[39m\n\u001b[32m     23\u001b[39m max_sugar = sugar_distribution[x,y]\n\u001b[32m     24\u001b[39m \u001b[38;5;28;01mif\u001b[39;00m max_sugar > \u001b[32m0\u001b[39m:\n\u001b[32m---> \u001b[39m\u001b[32m25\u001b[39m     sugar = \u001b[43mSugar\u001b[49m\u001b[43m(\u001b[49m\u001b[43magent_id\u001b[49m\u001b[43m,\u001b[49m\u001b[43m \u001b[49m\u001b[38;5;28;43mself\u001b[39;49m\u001b[43m,\u001b[49m\u001b[43m \u001b[49m\u001b[43m(\u001b[49m\u001b[43mx\u001b[49m\u001b[43m,\u001b[49m\u001b[43my\u001b[49m\u001b[43m)\u001b[49m\u001b[43m,\u001b[49m\u001b[43m \u001b[49m\u001b[43mmax_sugar\u001b[49m\u001b[43m)\u001b[49m\n\u001b[32m     26\u001b[39m     \u001b[38;5;28mself\u001b[39m.grid.place_agent(sugar, (x,y))\n\u001b[32m     27\u001b[39m     agent_id += \u001b[32m1\u001b[39m\n",
      "\u001b[36mCell\u001b[39m\u001b[36m \u001b[39m\u001b[32mIn[77]\u001b[39m\u001b[32m, line 8\u001b[39m, in \u001b[36mSugar.__init__\u001b[39m\u001b[34m(self, unique_id, model, pos, max_sugar)\u001b[39m\n\u001b[32m      7\u001b[39m \u001b[38;5;28;01mdef\u001b[39;00m\u001b[38;5;250m \u001b[39m\u001b[34m__init__\u001b[39m(\u001b[38;5;28mself\u001b[39m, unique_id, model, pos, max_sugar):\n\u001b[32m----> \u001b[39m\u001b[32m8\u001b[39m     \u001b[43mmesa\u001b[49m\u001b[43m.\u001b[49m\u001b[43mAgent\u001b[49m\u001b[43m.\u001b[49m\u001b[34;43m__init__\u001b[39;49m\u001b[43m(\u001b[49m\u001b[38;5;28;43mself\u001b[39;49m\u001b[43m,\u001b[49m\u001b[43m \u001b[49m\u001b[43munique_id\u001b[49m\u001b[43m,\u001b[49m\u001b[43m \u001b[49m\u001b[43mmodel\u001b[49m\u001b[43m)\u001b[49m\n\u001b[32m      9\u001b[39m     \u001b[38;5;28mself\u001b[39m.pos = pos\n\u001b[32m     10\u001b[39m     \u001b[38;5;28mself\u001b[39m.amount = max_sugar\n",
      "\u001b[36mFile \u001b[39m\u001b[32mc:\\Users\\hrohwer\\mesa-denver\\.venv\\Lib\\site-packages\\mesa\\agent.py:64\u001b[39m, in \u001b[36mAgent.__init__\u001b[39m\u001b[34m(self, model, *args, **kwargs)\u001b[39m\n\u001b[32m     51\u001b[39m \u001b[38;5;28;01mdef\u001b[39;00m\u001b[38;5;250m \u001b[39m\u001b[34m__init__\u001b[39m(\u001b[38;5;28mself\u001b[39m, model: Model, *args, **kwargs) -> \u001b[38;5;28;01mNone\u001b[39;00m:\n\u001b[32m     52\u001b[39m \u001b[38;5;250m    \u001b[39m\u001b[33;03m\"\"\"Create a new agent.\u001b[39;00m\n\u001b[32m     53\u001b[39m \n\u001b[32m     54\u001b[39m \u001b[33;03m    Args:\u001b[39;00m\n\u001b[32m   (...)\u001b[39m\u001b[32m     62\u001b[39m \n\u001b[32m     63\u001b[39m \u001b[33;03m    \"\"\"\u001b[39;00m\n\u001b[32m---> \u001b[39m\u001b[32m64\u001b[39m     \u001b[38;5;28;43msuper\u001b[39;49m\u001b[43m(\u001b[49m\u001b[43m)\u001b[49m\u001b[43m.\u001b[49m\u001b[34;43m__init__\u001b[39;49m\u001b[43m(\u001b[49m\u001b[43m*\u001b[49m\u001b[43margs\u001b[49m\u001b[43m,\u001b[49m\u001b[43m \u001b[49m\u001b[43m*\u001b[49m\u001b[43m*\u001b[49m\u001b[43mkwargs\u001b[49m\u001b[43m)\u001b[49m\n\u001b[32m     66\u001b[39m     \u001b[38;5;28mself\u001b[39m.model: Model = model\n\u001b[32m     67\u001b[39m     \u001b[38;5;28mself\u001b[39m.unique_id: \u001b[38;5;28mint\u001b[39m = \u001b[38;5;28mnext\u001b[39m(\u001b[38;5;28mself\u001b[39m._ids[model])\n",
      "\u001b[31mTypeError\u001b[39m: object.__init__() takes exactly one argument (the instance to initialize)"
     ]
    }
   ],
   "source": [
    "model = SugarscapeG1mt()"
   ]
  }
 ],
 "metadata": {
  "kernelspec": {
   "display_name": ".venv",
   "language": "python",
   "name": "python3"
  },
  "language_info": {
   "codemirror_mode": {
    "name": "ipython",
    "version": 3
   },
   "file_extension": ".py",
   "mimetype": "text/x-python",
   "name": "python",
   "nbconvert_exporter": "python",
   "pygments_lexer": "ipython3",
   "version": "3.12.2"
  }
 },
 "nbformat": 4,
 "nbformat_minor": 2
}
